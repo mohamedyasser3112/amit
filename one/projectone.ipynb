{
 "cells": [
  {
   "cell_type": "code",
   "execution_count": 1,
   "metadata": {},
   "outputs": [
    {
     "name": "stdout",
     "output_type": "stream",
     "text": [
      "Insufficient stock. Please try again.\n"
     ]
    }
   ],
   "source": [
    "# Part 1: General Product Ordering System\n",
    "products = [\n",
    "    {\"Name\": \"Product1\", \"Price\": 10, \"Quantity\": 1000},\n",
    "    {\"Name\": \"Product2\", \"Price\": 20, \"Quantity\": 500},\n",
    "    {\"Name\": \"Product3\", \"Price\": 30, \"Quantity\": 200}\n",
    "]\n",
    "\n",
    "def get_product(name):\n",
    "    for product in products:\n",
    "        if product[\"Name\"].lower() == name.lower():\n",
    "            return product\n",
    "    return None\n",
    "\n",
    "total_discounted_price = 0\n",
    "\n",
    "while True:\n",
    "    product_name = input(\"Enter product name: \")\n",
    "    product = get_product(product_name)\n",
    "    if not product:\n",
    "        print(\"Product not found. Please try again.\")\n",
    "        continue\n",
    "    \n",
    "    quantity = int(input(\"Enter quantity: \"))\n",
    "    if quantity > product[\"Quantity\"]:\n",
    "        print(\"Insufficient stock. Please try again.\")\n",
    "        continue\n",
    "\n",
    "    discount_percentage = min(25, (quantity // 250) * 5)\n",
    "    discounted_price = quantity * product[\"Price\"] * (1 - (discount_percentage / 100))\n",
    "    total_discounted_price += discounted_price\n",
    "    product[\"Quantity\"] -= quantity\n",
    "\n",
    "    another_product = input(\"Do you want to add another product? (yes/no): \")\n",
    "    if another_product.lower() != \"yes\":\n",
    "        break"
   ]
  },
  {
   "cell_type": "code",
   "execution_count": 3,
   "metadata": {},
   "outputs": [],
   "source": [
    "\n",
    "def stationary_store():\n",
    "    stationary_products = [\n",
    "        {\"Name\": \"Pen\", \"Price\": 2, \"Quantity\": 500},\n",
    "        {\"Name\": \"Notebook\", \"Price\": 5, \"Quantity\": 300},\n",
    "        {\"Name\": \"Eraser\", \"Price\": 1, \"Quantity\": 800}\n",
    "    ]\n",
    "\n",
    "    for item in stationary_products:\n",
    "        print(f\"Name: {item['Name']}, Price: {item['Price']}, Quantity: {item['Quantity']}\")\n",
    "\n",
    "    total_stationary_price = 0\n",
    "\n",
    "\n",
    "    while True:\n",
    "        product_name = input(\"Enter stationary product name: \")\n",
    "        product = None\n",
    "        for item in stationary_products:\n",
    "            if item[\"Name\"].lower() == product_name.lower():\n",
    "                product = item\n",
    "                break\n",
    "        \n",
    "        if not product:\n",
    "            print(\"Product not found. Please try again.\")\n",
    "            continue\n",
    "\n",
    "        quantity = int(input(\"Enter quantity: \"))\n",
    "        if quantity > product[\"Quantity\"]:\n",
    "            print(\"Insufficient stock. Please try again.\")\n",
    "            continue\n",
    "\n",
    "        discount_percentage = (quantity // 50) * 2\n",
    "        discounted_price = quantity * product[\"Price\"] * (1 - (discount_percentage / 100))\n",
    "        total_stationary_price += discounted_price\n",
    "        product[\"Quantity\"] -= quantity\n",
    "\n",
    "        another_product = input(\"Do you want to add another stationary product? (yes/no): \")\n",
    "        if another_product.lower() != \"yes\":\n",
    "            break\n",
    "\n",
    "    return total_stationary_price\n"
   ]
  },
  {
   "cell_type": "code",
   "execution_count": 4,
   "metadata": {},
   "outputs": [
    {
     "name": "stdout",
     "output_type": "stream",
     "text": [
      "Name: Pen, Price: 2, Quantity: 500\n",
      "Name: Notebook, Price: 5, Quantity: 300\n",
      "Name: Eraser, Price: 1, Quantity: 800\n",
      "Total discounted price: 1584.00 USD\n",
      "Your order is on the way!\n"
     ]
    }
   ],
   "source": [
    "\n",
    "total_stationary_price = stationary_store()\n",
    "total_discounted_price += total_stationary_price\n",
    "\n",
    "delivery_option = input(\"Choose delivery or pick-up: \")\n",
    "if delivery_option.lower() == \"delivery\":\n",
    "    total_discounted_price += 200\n",
    "elif delivery_option.lower() == \"pick-up\":\n",
    "    total_discounted_price += 50\n",
    "\n",
    "currency = input(\"Choose payment currency (USD, EUR, EGP): \").upper()\n",
    "if currency == \"EUR\":\n",
    "    total_discounted_price *= 0.92\n",
    "elif currency == \"EGP\":\n",
    "    total_discounted_price *= 30.90\n",
    "else:\n",
    "    currency = \"USD\"\n",
    "\n",
    "print(f\"Total discounted price: {total_discounted_price:.2f} {currency}\")\n",
    "print(\"Your order is on the way!\")\n"
   ]
  }
 ],
 "metadata": {
  "kernelspec": {
   "display_name": "Python 3",
   "language": "python",
   "name": "python3"
  },
  "language_info": {
   "codemirror_mode": {
    "name": "ipython",
    "version": 3
   },
   "file_extension": ".py",
   "mimetype": "text/x-python",
   "name": "python",
   "nbconvert_exporter": "python",
   "pygments_lexer": "ipython3",
   "version": "3.10.0"
  }
 },
 "nbformat": 4,
 "nbformat_minor": 2
}
